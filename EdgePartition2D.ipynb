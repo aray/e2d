{
 "cells": [
  {
   "cell_type": "markdown",
   "metadata": {},
   "source": [
    "#Improving GraphX's EdgePartition2D\n",
    "\n",
    "The current implementation of EdgePartition2D has a major limitation:\n",
    "> One of the limitations of this approach is that the number of machines must either be a perfect square. We partially address this limitation by computing the machine assignment to the next largest perfect square and then mapping back down to the actual number of machines. Unfortunately, this can also lead to work imbalance and so it is suggested that a perfect square is used.\n",
    "\n",
    "To remove this limitation I'm proposing the following code change. It allows us to partition into any number of evenly sized bins while maintaining the property that any vertex will only need to be replicated at most `2 * sqrt(numParts)` times. To maintain current behavior for perfect squares we use the old algorithm in that case, although this could be removed if we dont care about producing the exact same result.\n",
    "\n",
    "###Current\n",
    "\n",
    "    case object EdgePartition2D extends PartitionStrategy {\n",
    "      override def getPartition(src: VertexId, dst: VertexId, numParts: PartitionID): PartitionID = {\n",
    "        val ceilSqrtNumParts: PartitionID = math.ceil(math.sqrt(numParts)).toInt\n",
    "        val mixingPrime: VertexId = 1125899906842597L\n",
    "        val col: PartitionID = (math.abs(src * mixingPrime) % ceilSqrtNumParts).toInt\n",
    "        val row: PartitionID = (math.abs(dst * mixingPrime) % ceilSqrtNumParts).toInt\n",
    "        (col * ceilSqrtNumParts + row) % numParts\n",
    "      }\n",
    "    }\n",
    "\n",
    "###Improved\n",
    "\n",
    "    case object EdgePartition2D extends PartitionStrategy {\n",
    "      override def getPartition(src: VertexId, dst: VertexId, numParts: PartitionID): PartitionID = {\n",
    "        val ceilSqrtNumParts: PartitionID = math.ceil(math.sqrt(numParts)).toInt\n",
    "        val mixingPrime: VertexId = 1125899906842597L\n",
    "        if (numParts == ceilSqrtNumParts * ceilSqrtNumParts) {\n",
    "          // Use old method for perfect squared to ensure we get same results\n",
    "          val col: PartitionID = (math.abs(src * mixingPrime) % ceilSqrtNumParts).toInt\n",
    "          val row: PartitionID = (math.abs(dst * mixingPrime) % ceilSqrtNumParts).toInt\n",
    "          (col * ceilSqrtNumParts + row) % numParts\n",
    "    \n",
    "        } else {\n",
    "          // Otherwise use new method\n",
    "          val cols = ceilSqrtNumParts\n",
    "          val rows = (numParts + cols - 1) / cols\n",
    "          val lastColRows = numParts - rows * (cols - 1)\n",
    "          val col = (math.abs(src * mixingPrime) % numParts / rows).toInt\n",
    "          val row = (math.abs(dst * mixingPrime) % (if (col < cols - 1) rows else lastColRows)).toInt\n",
    "          col * rows + row\n",
    "    \n",
    "        }\n",
    "      }\n",
    "    }\n",
    "\n",
    "Now lets visualize whats going on"
   ]
  },
  {
   "cell_type": "code",
   "execution_count": 1,
   "metadata": {
    "collapsed": false
   },
   "outputs": [
    {
     "name": "stderr",
     "output_type": "stream",
     "text": [
      ":0: FutureWarning: IPython widgets are experimental and may change in the future.\n"
     ]
    }
   ],
   "source": [
    "from __future__ import division\n",
    "from IPython.html.widgets import interact, IntSlider\n",
    "import math\n",
    "import collections\n",
    "import random\n",
    "import matplotlib\n",
    "import matplotlib.pyplot as plt\n",
    "from matplotlib.patches import Rectangle\n",
    "from matplotlib.collections import PatchCollection\n",
    "import numpy as np\n",
    "np.seterr(all='ignore') #Ignore overflow warnings\n",
    "%matplotlib inline"
   ]
  },
  {
   "cell_type": "markdown",
   "metadata": {},
   "source": [
    "We use `numpy.int64` to match Java's overflow behavior."
   ]
  },
  {
   "cell_type": "code",
   "execution_count": 2,
   "metadata": {
    "collapsed": true
   },
   "outputs": [],
   "source": [
    "def old2d(src, dst, numParts):\n",
    "    src = np.int64(src)\n",
    "    dst = np.int64(dst)\n",
    "    ceilSqrtNumParts = np.int64(math.ceil(math.sqrt(numParts)))\n",
    "    mixingPrime = np.int64(1125899906842597)\n",
    "    col = int(abs(src * mixingPrime) % ceilSqrtNumParts)\n",
    "    row = int(abs(dst * mixingPrime) % ceilSqrtNumParts)\n",
    "    return (col * ceilSqrtNumParts + row) % numParts"
   ]
  },
  {
   "cell_type": "code",
   "execution_count": 3,
   "metadata": {
    "collapsed": false
   },
   "outputs": [],
   "source": [
    "def new2d(src, dst, numParts):\n",
    "    src = np.int64(src)\n",
    "    dst = np.int64(dst)\n",
    "    ceilSqrtNumParts = np.int64(math.ceil(math.sqrt(numParts)))\n",
    "    mixingPrime = np.int64(1125899906842597)\n",
    "    cols = ceilSqrtNumParts\n",
    "    rows = (numParts + cols - 1) // cols\n",
    "    lastColRows = numParts - rows * (cols - 1)\n",
    "    col = int(abs(src * mixingPrime) % numParts // rows)\n",
    "    row = int(abs(dst * mixingPrime) % (rows if (col < cols - 1) else lastColRows))\n",
    "    return col * rows + row"
   ]
  },
  {
   "cell_type": "code",
   "execution_count": 4,
   "metadata": {
    "collapsed": true
   },
   "outputs": [],
   "source": [
    "def rand_vid():\n",
    "    return random.randint(-2**63, 2**63 - 1)"
   ]
  },
  {
   "cell_type": "code",
   "execution_count": 5,
   "metadata": {
    "collapsed": false
   },
   "outputs": [],
   "source": [
    "def get_counts(numParts, sample_size = 10000):\n",
    "    old_cnt = collections.Counter()\n",
    "    new_cnt = collections.Counter()\n",
    "    for x in xrange(1, sample_size):\n",
    "        src = rand_vid()\n",
    "        dst = rand_vid()\n",
    "        old_cnt[old2d(src, dst, numParts)] += 1\n",
    "        new_cnt[new2d(src, dst, numParts)] += 1\n",
    "    return (old_cnt, new_cnt)"
   ]
  },
  {
   "cell_type": "code",
   "execution_count": 6,
   "metadata": {
    "collapsed": false
   },
   "outputs": [],
   "source": [
    "def visualize(numParts):\n",
    "    fig = plt.figure()\n",
    "    fig.set_size_inches(16, 8)\n",
    "    ax1 = fig.add_subplot(131, aspect='equal')\n",
    "    patches = []\n",
    "    cols = int(math.ceil(math.sqrt(numParts)))\n",
    "    rows = (numParts + cols - 1) // cols\n",
    "    lastColRows = numParts - rows * (cols - 1)\n",
    "    for i in xrange(numParts):\n",
    "        col = i // rows\n",
    "        row = i % rows\n",
    "        if col < cols - 1:\n",
    "            rectangle = Rectangle((col*rows/numParts,row/rows), rows/numParts, 1/rows)\n",
    "        else:\n",
    "            rectangle = Rectangle((col*rows/numParts,row/lastColRows), lastColRows/numParts, 1/lastColRows)\n",
    "        patches.append(rectangle)\n",
    "    \n",
    "    p = PatchCollection(patches, cmap=matplotlib.cm.jet)\n",
    "    p.set_array(np.arange(numParts))\n",
    "    ax1.add_collection(p)\n",
    "    ax1.set_title('Partitions - New method')\n",
    "    \n",
    "    old_cnt, new_cnt = get_counts(numParts)\n",
    "    \n",
    "    ax2 = fig.add_subplot(132)\n",
    "    ax2.bar(*zip(*new_cnt.items()), width=1)\n",
    "    ax2.set_xlim(0,numParts)\n",
    "    ax2.set_title('Balance - New method')\n",
    "    ax2.set_xlabel('partition number')\n",
    "    ax2.set_ylabel('number of edges')\n",
    "    \n",
    "    ax3 = fig.add_subplot(133, sharey=ax2)\n",
    "    ax3.bar(*zip(*old_cnt.items()), width=1)\n",
    "    ax3.set_xlim(0,numParts)\n",
    "    ax3.set_title('Balance - Old method')\n",
    "    ax3.set_xlabel('partition number')\n",
    "    ax3.set_ylabel('number of edges')\n",
    "    \n",
    "    plt.show()"
   ]
  },
  {
   "cell_type": "code",
   "execution_count": 7,
   "metadata": {
    "collapsed": false
   },
   "outputs": [
    {
     "data": {
      "image/png": "[encoded data removed]",
      "text/plain": [
       "<matplotlib.figure.Figure at 0x10b76b410>"
      ]
     },
     "metadata": {},
     "output_type": "display_data"
    },
    {
     "data": {
      "text/plain": [
       "<function __main__.visualize>"
      ]
     },
     "execution_count": 7,
     "metadata": {},
     "output_type": "execute_result"
    }
   ],
   "source": [
    "interact(visualize, numParts=IntSlider(min=1, max=50, value=10))"
   ]
  }
 ],
 "metadata": {
  "kernelspec": {
   "display_name": "Python 2",
   "language": "python",
   "name": "python2"
  },
  "language_info": {
   "codemirror_mode": {
    "name": "ipython",
    "version": 2
   },
   "file_extension": ".py",
   "mimetype": "text/x-python",
   "name": "python",
   "nbconvert_exporter": "python",
   "pygments_lexer": "ipython2",
   "version": "2.7.6"
  }
 },
 "nbformat": 4,
 "nbformat_minor": 0
}
